{
 "cells": [
  {
   "cell_type": "markdown",
   "metadata": {},
   "source": [
    "# Setting up hadoop cluster\n"
   ]
  },
  {
   "cell_type": "markdown",
   "metadata": {},
   "source": [
    "Setting up environment:\n",
    "\n",
    "1. Oracle Box: Import Appliance, assign 1 CPU and 2GB memory. Save the imported VMs to a specific address on your drive by setting it up in base.\n",
    "2. Don't forget to \"reinitialize the MAC address for all network cards.\" (In Virtual Box version 6 and higher it is \"Generate new MAC addresses for all network adapters.\")\n",
    "3. After importing them and renaming their group, change their network setting to host only.\n",
    "4. These three VMs have two users: \n",
    "root with pass root\n",
    "hadoop with pass hadoop\n",
    "5. Check you host (in my case windows) IP by going to control panel>network and sharing center > Change adapter settign > Check ethernet 5 > properties > click on IPV4 and see your IP. In my case 192.168.56.1.\n",
    "6. Back in master node (CentOS vm) open terminal from Applications? Favorites> Terminal\n",
    "7. In terminal type nmtui to set the IP: \n",
    "disable IPV6;\n",
    "make IPV4 manual and set it in the same IP range as your host machine;\n",
    "set a host name: in this case node-master\n",
    "8. in terminal type ifconfig to see if IP is set properly.\n",
    "9. type exit to exit terminal.\n",
    "10. In wired settings disable DNS and route.\n",
    "11. From node-master ping host machine\"\n",
    "ping 192.168.56.1\n",
    "12. From host machine ping node-master:\n",
    "ping 192.168.56.10\n",
    "13. Repeat steps 3 to 12 for all three nodes.\n",
    "14. Open ssh terminal by mobaxterm to each of your machines. SSH port is 22.\n",
    "15. To allow each node ping the other one with alias, we need to setup FQDN (Fully Qualified Domain Name). Consider that all nodes can see each other, but nodes do not see each others' names. To resolve this in windows: \n",
    "\n",
    "C:\\Windows\\System32\\drivers\\etc\\hosts\n",
    "\n",
    "Then edit hosts like below:\n",
    "\n",
    "```\n",
    "192.168.56.2 Node2\n",
    "192.168.1.1 PC1 (This is my own laptop.)\n",
    "192.168.56.10 node-master\n",
    "192.168.56.11 node1\n",
    "192.168.56.12 node2\n",
    "```"
   ]
  },
  {
   "cell_type": "markdown",
   "metadata": {},
   "source": [
    "This is not necessary for our windows machine (host), but for our nodes we need to do it.\n",
    "\n",
    "On Linux nodes FQDN can set up on /etc/hosts\n",
    "You may need to su to root user:\n",
    "    ```\n",
    "+ su\n",
    "+ enter password for root\n",
    "+ cd .. to get to root\n",
    "+ cd etc\n",
    "+ vi hosts\n",
    "\n",
    "Hit insert button on key board to be able to add lines to hosts file. Add\n",
    "```\n",
    "192.168.56.10 node-master\n",
    "192.168.56.11 node1\n",
    "192.168.56.12 node2\n",
    "```"
   ]
  },
  {
   "cell_type": "markdown",
   "metadata": {},
   "source": [
    "Copy this file to all the other nodes or repeat step 15 for all of them.\n",
    "\n",
    "To edit with vi, hit insert to be able to edit the file. To quit without saving use Esc, then type :q! To save and quit hit Esc, then type :wq (Write and Quit).\n",
    "\n",
    "16. You can ssh from one node to another. For example on ndoe-master you can:\n",
    "+ ssh node1\n",
    "Enter password and you are connected to node1.\n",
    "\n",
    "With user hadoop, you will be in /home/hadoop.\n",
    "\n",
    "17. To connect passwordless to your servers:\n",
    "I want user hadoop from node-master be able to connect to ndoe1 and node2 with ssh without password.\n",
    "To do so (passwordless ssh):\n",
    "+ open a session to node-master with the user you want to connect (in this case, hadoop).\n",
    "+ On node-master with user hadoop generate a key:\n",
    "+ ssh-keygen -b 4096\n",
    "4096 is number of bits of the key.\n",
    "The generated key by default is at /home/hadoop/.ssh/id_rsa. You can cat it.\n",
    "cat /home/hadoop/.ssh/id_rsa.pub\n",
    "\n",
    "18- Copy the generated key (be carfeul, just public key) to all other nodes. This includes master as well.\n",
    "+ ssh-copy-id -i /home/hadoop/.ssh/id_rsa.pub hadoop@node-master\n",
    "\n",
    "For the first time it will ask for password, but afterwards you can ssh passwordless.\n",
    "\n",
    "19- Repeat step 18 for node1 and node2:\n",
    "+ ssh-copy-id -i /home/hadoop/.ssh/id_rsa.pub hadoop@node1\n",
    "\n",
    "If you have n nodes, you have to do it for all of them.\n",
    "\n",
    "20- For nodes to be able to communicate with each other they need to see each others' IP and ports. At this stage we need to open firewalls.\n",
    "\n",
    "Add the ports to firewall:\n",
    "\n",
    "In hadoop 3 we need to open 9870, 9871, 9866, 9867 etc for different services of hadoop. We need to do it on each server for each port.\n",
    "\n",
    "+ sudo firewall-cmd —zone=public —add-port=9000/tcp —permanent\n",
    "+ sudo firewall-cmd reload\n",
    "\n",
    "The ports we need to open for the beginning are as follows:\n",
    "\n",
    "```\n",
    "namenode HTTP Port: 9870\n",
    "Namenode HTTPS Port: 9871\n",
    "Datanode HTTP Port: 9864\n",
    "Datanode HTTPS Port: 9865\n",
    "SecondaryNN HTTP Port: 9868\n",
    "SecoondaryNN HTTPS Port: 9869\n",
    "```"
   ]
  },
  {
   "cell_type": "code",
   "execution_count": null,
   "metadata": {},
   "outputs": [],
   "source": []
  }
 ],
 "metadata": {
  "kernelspec": {
   "display_name": "Python 3",
   "language": "python",
   "name": "python3"
  },
  "language_info": {
   "codemirror_mode": {
    "name": "ipython",
    "version": 3
   },
   "file_extension": ".py",
   "mimetype": "text/x-python",
   "name": "python",
   "nbconvert_exporter": "python",
   "pygments_lexer": "ipython3",
   "version": "3.8.5"
  }
 },
 "nbformat": 4,
 "nbformat_minor": 4
}
